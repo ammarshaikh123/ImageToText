{
 "cells": [
  {
   "cell_type": "code",
   "execution_count": 1,
   "metadata": {},
   "outputs": [
    {
     "name": "stdout",
     "output_type": "stream",
     "text": [
      "Collecting googletrans\n",
      "  Downloading https://files.pythonhosted.org/packages/71/3a/3b19effdd4c03958b90f40fe01c93de6d5280e03843cc5adf6956bfc9512/googletrans-3.0.0.tar.gz\n",
      "Collecting httpx==0.13.3 (from googletrans)\n",
      "  Downloading https://files.pythonhosted.org/packages/54/b4/698b284c6aed4d7c2b4fe3ba5df1fcf6093612423797e76fbb24890dd22f/httpx-0.13.3-py3-none-any.whl (55kB)\n",
      "Requirement already satisfied: chardet==3.* in c:\\users\\salee\\anaconda3\\lib\\site-packages (from httpx==0.13.3->googletrans) (3.0.4)\n",
      "Collecting httpcore==0.9.* (from httpx==0.13.3->googletrans)\n",
      "  Downloading https://files.pythonhosted.org/packages/dd/d5/e4ff9318693ac6101a2095e580908b591838c6f33df8d3ee8dd953ba96a8/httpcore-0.9.1-py3-none-any.whl (42kB)\n",
      "Collecting hstspreload (from httpx==0.13.3->googletrans)\n",
      "  Downloading https://files.pythonhosted.org/packages/d5/b9/a183078ac6eef7c65ff97ee3477616504bb377a2939613af595b97cbaac3/hstspreload-2020.6.30-py3-none-any.whl (908kB)\n",
      "Requirement already satisfied: certifi in c:\\users\\salee\\anaconda3\\lib\\site-packages (from httpx==0.13.3->googletrans) (2020.6.20)\n",
      "Collecting sniffio (from httpx==0.13.3->googletrans)\n",
      "  Downloading https://files.pythonhosted.org/packages/b3/82/4bd4b7d9c0d1dc0fbfbc2a1e00138e7f3ab85bc239358fe9b78aa2ab586d/sniffio-1.1.0-py3-none-any.whl\n",
      "Collecting rfc3986<2,>=1.3 (from httpx==0.13.3->googletrans)\n",
      "  Downloading https://files.pythonhosted.org/packages/78/be/7b8b99fd74ff5684225f50dd0e865393d2265656ef3b4ba9eaaaffe622b8/rfc3986-1.4.0-py2.py3-none-any.whl\n",
      "Requirement already satisfied: idna==2.* in c:\\users\\salee\\anaconda3\\lib\\site-packages (from httpx==0.13.3->googletrans) (2.8)\n",
      "Collecting h11<0.10,>=0.8 (from httpcore==0.9.*->httpx==0.13.3->googletrans)\n",
      "  Downloading https://files.pythonhosted.org/packages/5a/fd/3dad730b0f95e78aeeb742f96fa7bbecbdd56a58e405d3da440d5bfb90c6/h11-0.9.0-py2.py3-none-any.whl (53kB)\n",
      "Collecting h2==3.* (from httpcore==0.9.*->httpx==0.13.3->googletrans)\n",
      "  Downloading https://files.pythonhosted.org/packages/25/de/da019bcc539eeab02f6d45836f23858ac467f584bfec7a526ef200242afe/h2-3.2.0-py2.py3-none-any.whl (65kB)\n",
      "Collecting hyperframe<6,>=5.2.0 (from h2==3.*->httpcore==0.9.*->httpx==0.13.3->googletrans)\n",
      "  Downloading https://files.pythonhosted.org/packages/19/0c/bf88182bcb5dce3094e2f3e4fe20db28a9928cb7bd5b08024030e4b140db/hyperframe-5.2.0-py2.py3-none-any.whl\n",
      "Collecting hpack<4,>=3.0 (from h2==3.*->httpcore==0.9.*->httpx==0.13.3->googletrans)\n",
      "  Downloading https://files.pythonhosted.org/packages/8a/cc/e53517f4a1e13f74776ca93271caef378dadec14d71c61c949d759d3db69/hpack-3.0.0-py2.py3-none-any.whl\n",
      "Building wheels for collected packages: googletrans\n",
      "  Running setup.py bdist_wheel for googletrans: started\n",
      "  Running setup.py bdist_wheel for googletrans: finished with status 'done'\n",
      "  Stored in directory: C:\\Users\\salee\\AppData\\Local\\pip\\Cache\\wheels\\28\\1a\\a7\\eaf4d7a3417a0c65796c547cff4deb6d79c7d14c2abd29273e\n",
      "Successfully built googletrans\n",
      "Installing collected packages: h11, sniffio, hyperframe, hpack, h2, httpcore, hstspreload, rfc3986, httpx, googletrans\n",
      "Successfully installed googletrans-3.0.0 h11-0.9.0 h2-3.2.0 hpack-3.0.0 hstspreload-2020.6.30 httpcore-0.9.1 httpx-0.13.3 hyperframe-5.2.0 rfc3986-1.4.0 sniffio-1.1.0\n"
     ]
    }
   ],
   "source": [
    "!pip install googletrans"
   ]
  },
  {
   "cell_type": "code",
   "execution_count": 1,
   "metadata": {},
   "outputs": [],
   "source": [
    "import pytesseract\n",
    "pytesseract.pytesseract.tesseract_cmd = r'C:\\Program Files\\Tesseract-OCR\\tesseract.exe'"
   ]
  },
  {
   "cell_type": "code",
   "execution_count": 2,
   "metadata": {},
   "outputs": [],
   "source": [
    "import cv2"
   ]
  },
  {
   "cell_type": "code",
   "execution_count": 24,
   "metadata": {},
   "outputs": [],
   "source": [
    "img = cv2.imread('german.jpeg')\n",
    "# cv2.imshow('sample image', img)\n",
    "# cv2.waitKey(0)\n",
    "# cv2.destroyAllWindows()"
   ]
  },
  {
   "cell_type": "code",
   "execution_count": 25,
   "metadata": {},
   "outputs": [
    {
     "name": "stdout",
     "output_type": "stream",
     "text": [
      "Lorem ipsum dolor sit amet, consectetuer adipiscing elit. Aencan commodo ligula\n",
      "eget dolor. Acnean massa.\n",
      "\n",
      "Cum sociis natoque penatibus et magnis dis parturient monte:\n",
      "Donec quam felis, ultricies nec, pellentesque eu, pretium quis, sem. Nulla consequat\n",
      "\n",
      "nascetur ridiculus mus.\n",
      "\n",
      " \n",
      "\n",
      "massa quis enim.\n",
      "\n",
      "Donec pede justo, fringilla vel, aliquet nec, vulputate eget, arcu. In enim justo,\n",
      "rhoncus ut, imperdiet a, venenatis vitae, justo. Nullam dictum felis eu pede mollis\n",
      "pretium.\n",
      "\n",
      "Integer tincidunt. Cras dapibus. Vivamus elementum semper nisi. Aenean vulputate\n",
      "eleifend tellus. Aenean leo ligula, porttitor eu, consequat vitae, eleifend ac, enim.\n",
      "\n",
      "Aliquam lorem ante, dapibus in, viverra quis, feugiat a, tellus. Phasellus viverra nulla\n",
      "ut metus varius laoreet. Quisque rutrum. Aenean imperdiet. Etiam ultricies nisi vel\n",
      "augue.\n"
     ]
    }
   ],
   "source": [
    "text = pytesseract.image_to_string(img)\n",
    "print(text)"
   ]
  },
  {
   "cell_type": "code",
   "execution_count": 26,
   "metadata": {},
   "outputs": [
    {
     "data": {
      "text/plain": [
       "'Lorem ipsum dolor sit amet, consectetuer adipiscing elit. Aencan convenience Reserved\\nneeds. Acnean mass.\\n\\nWhen Pulls Rays Super Bowl mountain;\\nTill than football, ultricies, kids football, the price of one, salad. there is no recipe\\n\\ninstantly.\\n\\n \\n\\nFor any mass.\\n\\nJust until the foot and sorted by no bananas, beef functional, inexpensive. At the just;\\nrhoncus ut, imperdiet a, venenatis vitae, justo. No gas was soft foot football\\nprice.\\n\\nInteger developers. Tomorrow protein. If not always live element. Nunc\\nJapan Product. Aenean leo ligula, porttitor eu, consequat vitae, eleifend ac, enim.\\n\\nLorem before any protein in, pull one feugiat mus. No boat cartoon\\nwhen the fear of various vitae. Each makeup. Jasmine hairstyle. Even if either ultricies\\npropaganda.'"
      ]
     },
     "execution_count": 26,
     "metadata": {},
     "output_type": "execute_result"
    }
   ],
   "source": [
    "from googletrans import Translator\n",
    "translator = Translator()\n",
    "translator.translate(text).text\n"
   ]
  },
  {
   "cell_type": "code",
   "execution_count": 40,
   "metadata": {
    "collapsed": true
   },
   "outputs": [
    {
     "name": "stdout",
     "output_type": "stream",
     "text": [
      "NUESTRA RECETA FAMILIAR: LECHE\n",
      "ENTERA ORGANICA PASTEURIZADA Y CULTIVADA,\n",
      "STUCAR ORGANICA MOLIDA EN FORMA NATURAL,\n",
      "TIRE DE PLATANO ORGANICO, SABORIZANTE i\n",
      "ATURAL, PECTINA, EXTRACTO DE ANATO (PARA\n",
      " \n",
      "‘OLOR), GLUCONATO DE ZINC, VITAMINA D3.\n",
      "CONTIENE NUESTRA MEZCLA EXCLUSIVA DE SE\n",
      "TULTVOS ACTIVoS vivo: 5. THERMOPHILUS,\n",
      "-BULGARICUS, L. ACIDOPHILUS, BIFIDUS,\n",
      "TASELY L RHAMNOSUS,\n",
      "es\n",
      "es\n",
      "es\n",
      "es\n",
      "es\n",
      "en\n",
      "enes\n",
      "es\n",
      "es\n",
      "en\n",
      "en\n"
     ]
    }
   ],
   "source": [
    "import pandas as pd\n",
    "import numpy as np\n",
    "import os\n",
    "text = os.linesep.join([s for s in text.splitlines() if s])\n",
    "print(text)\n",
    "for i in text.splitlines():\n",
    "    \n",
    "    temp = translator.detect(i).lang\n",
    "    print(temp)\n",
    "#     if temp!='en':\n",
    "#         #pytesseract.image_to_string(img, config=custom_config)\n",
    "#         print(translator.translate(i, src= temp, dest='en').text)\n",
    "    \n",
    "    \n",
    "    \n",
    "    "
   ]
  },
  {
   "cell_type": "code",
   "execution_count": 27,
   "metadata": {},
   "outputs": [
    {
     "name": "stdout",
     "output_type": "stream",
     "text": [
      "Lorem ipsum dolor sit amet, consectetuer adipiscing elit. Aencan convenience Reservedneeds. Acnean mass.When Pulls Rays Super Bowl mountain;Till than football, ultricies, kids football, the price of one, salad. there is no recipeinstantly.For any mass.Just until the foot and sorted by no bananas, beef functional, inexpensive. At the just;rhoncus ut, imperdiet a, venenatis vitae, justo. No gas was soft foot footballprice.Integer developers. Tomorrow protein. If not always live element. NuncJapan Product. Aenean leo ligula, porttitor eu, consequat vitae, eleifend ac, enim.Lorem before any protein in, pull one feugiat mus. No boat cartoonwhen the fear of various vitae. Each makeup. Jasmine hairstyle. Even if either ultriciespropaganda.\n"
     ]
    }
   ],
   "source": [
    "import pandas as pd\n",
    "import numpy as np\n",
    "import googletrans\n",
    "import os\n",
    "s = \"\"\n",
    "for i in text.splitlines():\n",
    "    \n",
    "    temp = translator.detect(i).lang\n",
    "#     print(temp)\n",
    "    if temp in googletrans.LANGUAGES  and temp!='en':\n",
    "        s += translator.translate(i, src= temp, dest='en').text\n",
    "    elif temp[:2] in googletrans.LANGUAGES :\n",
    "        s += translator.translate(i, src= temp[:2], dest='en').text\n",
    "    elif temp[:3] in googletrans.LANGUAGES :\n",
    "        s += translator.translate(i, src= temp[:3], dest='en').text\n",
    "    else:    \n",
    "        s+=i\n",
    "print(s)\n"
   ]
  },
  {
   "cell_type": "code",
   "execution_count": null,
   "metadata": {},
   "outputs": [],
   "source": []
  }
 ],
 "metadata": {
  "kernelspec": {
   "display_name": "Python 3",
   "language": "python",
   "name": "python3"
  },
  "language_info": {
   "codemirror_mode": {
    "name": "ipython",
    "version": 3
   },
   "file_extension": ".py",
   "mimetype": "text/x-python",
   "name": "python",
   "nbconvert_exporter": "python",
   "pygments_lexer": "ipython3",
   "version": "3.7.1"
  }
 },
 "nbformat": 4,
 "nbformat_minor": 4
}
